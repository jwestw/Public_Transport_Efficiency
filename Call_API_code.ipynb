{
 "cells": [
  {
   "cell_type": "code",
   "execution_count": null,
   "id": "cc548b58",
   "metadata": {},
   "outputs": [],
   "source": [
    "import requests\n",
    "import pandas as pd\n",
    "import time"
   ]
  },
  {
   "cell_type": "code",
   "execution_count": null,
   "id": "5a12f7b8",
   "metadata": {},
   "outputs": [],
   "source": [
    "import traveltimepy as ttpy\n",
    "from datetime import datetime\n",
    "import os"
   ]
  },
  {
   "cell_type": "code",
   "execution_count": null,
   "id": "514a78d9",
   "metadata": {},
   "outputs": [],
   "source": [
    "os.environ[\"TRAVELTIME_ID\"] = os.environ.get(\"TRAVELTIME_ID\")\n",
    "os.environ[\"TRAVELTIME_KEY\"] = os.environ.get(\"TRAVELTIME_KEY\")"
   ]
  },
  {
   "cell_type": "code",
   "execution_count": null,
   "id": "20b8de29",
   "metadata": {},
   "outputs": [],
   "source": [
    "locations_list = [\n",
    "    {\"id\": \"London center\", \"coords\": {\"lat\": 51.508930, \"lng\": -0.131387}},\n",
    "    {\"id\": \"Hyde Park\", \"coords\": {\"lat\": 51.508824, \"lng\": -0.167093}},\n",
    "    {\"id\": \"ZSL London Zoo\", \"coords\": {\"lat\": 51.536067, \"lng\": -0.153596}},\n",
    "    {\"id\": \"London Museum\", \"coords\": {\"lat\": 51.520464 , \"lng\": -0.126312}},\n",
    "    {\"id\": \"Big Ben\", \"coords\": {\"lat\": 51.500896 , \"lng\": -0.124584}},\n",
    "    {\"id\": \"Charing Cross Station\", \"coords\": {\"lat\": 51.508567 , \"lng\": -0.125633}},\n",
    "    {\"id\": \"London center2\", \"coords\": {\"lat\": 51.508930, \"lng\": -0.131387}},\n",
    "    {\"id\": \"Hyde Park2\", \"coords\": {\"lat\": 51.508824, \"lng\": -0.167093}},\n",
    "    {\"id\": \"ZSL London Zoo2\", \"coords\": {\"lat\": 51.536067, \"lng\": -0.153596}},\n",
    "    {\"id\": \"London Museum2\", \"coords\": {\"lat\": 51.520464 , \"lng\": -0.126312}},\n",
    "    {\"id\": \"Big Ben2\", \"coords\": {\"lat\": 51.500896 , \"lng\": -0.124584}},\n",
    "    {\"id\": \"Charing Cross Station2\", \"coords\": {\"lat\": 51.508567 , \"lng\": -0.125633}}\n",
    "]"
   ]
  },
  {
   "cell_type": "code",
   "execution_count": null,
   "id": "2119c436",
   "metadata": {},
   "outputs": [],
   "source": [
    "def get_results_from_api(locs):\n",
    "    \n",
    "    \"\"\"\n",
    "    Calls the TravelTime API and returns the results in a dictionary.\n",
    "    \n",
    "    Args: \n",
    "      locs (list): A list of dictionaries containing locations. Must contain keys \n",
    "        [\"id\", \"coords\"].\n",
    "      dep_search (dict): A dictionary of departure locations. Must contain keys \n",
    "        [\"id\", \"departure_location_id\", \"arrival_location_ids\", \"transportation\", \n",
    "        \"departure_time\", \"travel_time\", \"properties\", \"range\"]\n",
    "\n",
    "    Returns: \n",
    "      dict: A dictionary of results.   \n",
    "\n",
    "    \"\"\"\n",
    "    \n",
    "    departure = locs[0][\"id\"]\n",
    "    arrival_locations = [locs[index][\"id\"] for index in range(len(locs)) \n",
    "                         if locs[index][\"id\"]!= departure]\n",
    "    \n",
    "    # Define parameters in dictionary for API call\n",
    "    \n",
    "    public_parameters = {\n",
    "    \"id\": \"arrive-at one-to-many search example\",\n",
    "    \"arrival_location_ids\": arrival_locations,\n",
    "    \"departure_location_id\": departure,\n",
    "    \"transportation\": {\"type\": \"public_transport\"},\n",
    "    \"arrival_time_period\": \"weekday_morning\",\n",
    "    \"travel_time\": 3600,\n",
    "    \"properties\": [\"travel_time\"]\n",
    "    }\n",
    "    \n",
    "    private_parameters = {\n",
    "    \"id\": \"arrive-at one-to-many search example\",\n",
    "    \"arrival_location_ids\": arrival_locations,\n",
    "    \"departure_location_id\": departure,\n",
    "    \"transportation\": {\"type\": \"driving\"},\n",
    "    \"arrival_time_period\": \"weekday_morning\",\n",
    "    \"travel_time\": 3600,\n",
    "    \"properties\": [\"travel_time\"]\n",
    "    }\n",
    "\n",
    "    # Call the API \n",
    "    public_api_data = ttpy.time_filter_fast(locations=locs, arrival_one_to_many=public_parameters)\n",
    "\n",
    "    private_api_data = ttpy.time_filter_fast(locations=locs, arrival_one_to_many=private_parameters)\n",
    "\n",
    "    API_call_time = time.ctime()\n",
    "    \n",
    "    # Define empty results dictionary to store results\n",
    "    res_dict = {\"Start\" : [], \"Destination\" : [], \"Public_Travel_Duration\" : [], \"Private_Travel_Duration\" : [], \"API call time\" : []}\n",
    "    # number_of_arrival_locations = len(arrival_locations)\n",
    "\n",
    "    public_refined_api_data = public_api_data[\"results\"][0][\"locations\"]\n",
    "    private_refined_api_data = private_api_data[\"results\"][0][\"locations\"]\n",
    "    \n",
    "   \n",
    "    # Loop through destination locations and store each journey time into results dictionary.        \n",
    "    for destination_result in public_refined_api_data:\n",
    "        public_duration_result = destination_result[\"properties\"][\"travel_time\"]\n",
    "        destination_name = destination_result[\"id\"]\n",
    "        res_dict[\"Start\"].append(departure)\n",
    "        res_dict[\"Destination\"].append(destination_name)\n",
    "        res_dict[\"Public_Travel_Duration\"].append(public_duration_result)\n",
    "        res_dict[\"API call time\"].append(API_call_time)\n",
    "    \n",
    "    # \n",
    "    for index, destination_result in enumerate(private_refined_api_data):\n",
    "          priv_destination = destination_result[\"id\"]\n",
    "          pub_dest_same_index = res_dict[\"Destination\"][index]\n",
    "          if priv_destination != pub_dest_same_index:\n",
    "                print(f\"Public destination: {res_dict['Destination'][index]}, Private Destination: {destination_result['id']}\")\n",
    "                raise\n",
    "          private_duration_result = destination_result[\"properties\"][\"travel_time\"]\n",
    "          res_dict[\"Private_Travel_Duration\"].append(private_duration_result)\n",
    "\n",
    "    final_df = pd.DataFrame(res_dict)\n",
    "    \n",
    "    return final_df"
   ]
  },
  {
   "cell_type": "code",
   "execution_count": null,
   "id": "7a09274d",
   "metadata": {
    "scrolled": false
   },
   "outputs": [],
   "source": [
    "api_output_df = get_results_from_api(locs=locations_list)\n",
    "api_output_df"
   ]
  },
  {
   "cell_type": "code",
   "execution_count": null,
   "id": "83aea5ca",
   "metadata": {},
   "outputs": [],
   "source": [
    "departure = locations_list[0][\"id\"]\n",
    "arrival_locations = [locations_list[index][\"id\"] for index in range(len(locations_list)) \n",
    "                     if locations_list[index][\"id\"]!= departure]\n",
    "\n",
    "# Define parameters in dictionary for API call\n",
    "\n",
    "public_parameters = {\n",
    "\"id\": \"arrive-at one-to-many search example\",\n",
    "\"arrival_location_ids\": arrival_locations,\n",
    "\"departure_location_id\": departure,\n",
    "\"transportation\": {\"type\": \"public_transport\"},\n",
    "\"arrival_time_period\": \"weekday_morning\",\n",
    "\"travel_time\": 3600,\n",
    "\"properties\": [\"travel_time\"]\n",
    "}\n",
    "\n",
    "private_parameters = {\n",
    "\"id\": \"arrive-at one-to-many search example\",\n",
    "\"arrival_location_ids\": arrival_locations,\n",
    "\"departure_location_id\": departure,\n",
    "\"transportation\": {\"type\": \"driving\"},\n",
    "\"arrival_time_period\": \"weekday_morning\",\n",
    "\"travel_time\": 3600,\n",
    "\"properties\": [\"travel_time\"]\n",
    "}\n",
    "\n",
    "# Call the API \n",
    "public_api_data = ttpy.time_filter_fast(locations=locations_list, arrival_one_to_many=public_parameters)\n",
    "\n",
    "private_api_data = ttpy.time_filter_fast(locations=locations_list, arrival_one_to_many=private_parameters)\n",
    "\n",
    "API_call_time = time.ctime()\n",
    "\n",
    "# Define empty results dictionary to store results\n",
    "res_dict = {\"Start\" : [], \"Destination\" : [], \"Public_Travel_Duration\" : [], \"Private_Travel_Duration\" : [], \"API call time\" : []}\n",
    "# number_of_arrival_locations = len(arrival_locations)\n",
    "\n",
    "public_refined_api_data = public_api_data[\"results\"][0][\"locations\"]\n",
    "private_refined_api_data = private_api_data[\"results\"][0][\"locations\"]\n",
    "\n",
    "# Loop through destination locations and store each journey time into results dictionary.        \n",
    "for destination_result in public_refined_api_data:\n",
    "    public_duration_result = destination_result[\"properties\"][\"travel_time\"]\n",
    "    destination_name = destination_result[\"id\"]\n",
    "    res_dict[\"Start\"].append(departure)\n",
    "    res_dict[\"Destination\"].append(destination_name)\n",
    "    res_dict[\"Public_Travel_Duration\"].append(public_duration_result)\n",
    "    res_dict[\"API call time\"].append(API_call_time)\n",
    "\n",
    "for destination_result in private_refined_api_data:\n",
    "    private_duration_result = destination_result[\"properties\"][\"travel_time\"]\n",
    "    res_dict[\"Private_Travel_Duration\"].append(private_duration_result)\n",
    "\n",
    "final_df = pd.DataFrame(res_dict)"
   ]
  },
  {
   "cell_type": "code",
   "execution_count": null,
   "id": "cda108dc",
   "metadata": {
    "scrolled": true
   },
   "outputs": [],
   "source": [
    "public_api_data"
   ]
  },
  {
   "cell_type": "code",
   "execution_count": null,
   "id": "841d0e3f",
   "metadata": {},
   "outputs": [],
   "source": [
    "public_api_data_refined = public_api_data[\"results\"][0][\"locations\"]\n",
    "public_api_data_refined"
   ]
  },
  {
   "cell_type": "code",
   "execution_count": null,
   "id": "f7b859f8",
   "metadata": {},
   "outputs": [],
   "source": [
    "for location in arrival_locations:\n",
    "    for dict_result in public_api_data_refined:\n",
    "        if dict_result[\"id\"] == location:\n",
    "            append"
   ]
  },
  {
   "cell_type": "code",
   "execution_count": null,
   "id": "57327bed",
   "metadata": {
    "scrolled": false
   },
   "outputs": [],
   "source": [
    "private_api_data"
   ]
  },
  {
   "cell_type": "code",
   "execution_count": null,
   "id": "30925c9f",
   "metadata": {},
   "outputs": [],
   "source": [
    "private_api_data"
   ]
  },
  {
   "cell_type": "code",
   "execution_count": null,
   "id": "4d804069",
   "metadata": {},
   "outputs": [],
   "source": [
    "res_dict_idea = {\"Start\" : [], \"Destination\" : [], \"Public_Travel_Duration\" : [], \"Private_Travel_Duration\" : [], \"API call time\" : []}"
   ]
  },
  {
   "cell_type": "code",
   "execution_count": null,
   "id": "87a5c686",
   "metadata": {},
   "outputs": [],
   "source": [
    "public_refined_api_data = public_api_data[\"results\"][0][\"locations\"]\n",
    "private_refined_api_data = private_api_data[\"results\"][0][\"locations\"]"
   ]
  },
  {
   "cell_type": "code",
   "execution_count": null,
   "id": "ce210880",
   "metadata": {
    "scrolled": false
   },
   "outputs": [],
   "source": [
    "for number in range(len(public_refined_api_data):\n",
    "                    "
   ]
  },
  {
   "cell_type": "code",
   "execution_count": null,
   "id": "5317dd57",
   "metadata": {
    "scrolled": true
   },
   "outputs": [],
   "source": [
    "arrival_locations"
   ]
  },
  {
   "cell_type": "code",
   "execution_count": null,
   "id": "a036e299",
   "metadata": {
    "scrolled": true
   },
   "outputs": [],
   "source": [
    "for location in arrival_locations:\n",
    "    print(location)"
   ]
  },
  {
   "cell_type": "code",
   "execution_count": null,
   "id": "de2f5f07",
   "metadata": {},
   "outputs": [],
   "source": [
    "for location in arrival_locations:\n",
    "    print(location)"
   ]
  },
  {
   "cell_type": "code",
   "execution_count": null,
   "id": "890b6b64",
   "metadata": {},
   "outputs": [],
   "source": [
    "for location in arrival_locations:\n",
    "    public_duration_result = destination_result[\"properties\"][\"travel_time\"]\n",
    "    destination_name = destination_result[\"id\"]\n",
    "    res_dict_idea[\"Start\"].append(departure)\n",
    "    res_dict_idea[\"Destination\"].append(location)\n",
    "    res_dict_idea[\"Public_Travel_Duration\"].append(location)"
   ]
  },
  {
   "cell_type": "code",
   "execution_count": null,
   "id": "821195c4",
   "metadata": {},
   "outputs": [],
   "source": [
    "res_dict_idea"
   ]
  },
  {
   "cell_type": "code",
   "execution_count": null,
   "id": "818731d5",
   "metadata": {},
   "outputs": [],
   "source": [
    "public_parameters = {\n",
    "\"id\": \"arrive-at one-to-many search example\",\n",
    "\"arrival_location_ids\": arrival_locations,\n",
    "\"departure_location_id\": departure,\n",
    "\"transportation\": {\"type\": \"public_transport\"},\n",
    "\"arrival_time_period\": \"weekday_morning\",\n",
    "\"travel_time\": 500,\n",
    "\"properties\": [\"travel_time\"]\n",
    "}\n",
    "\n",
    "# Call the API \n",
    "public_api_data = ttpy.time_filter_fast(locations=locations_list, arrival_one_to_many=public_parameters)"
   ]
  },
  {
   "cell_type": "code",
   "execution_count": null,
   "id": "1848f1f9",
   "metadata": {},
   "outputs": [],
   "source": [
    "public_api_data"
   ]
  },
  {
   "cell_type": "code",
   "execution_count": null,
   "id": "1b7b1985",
   "metadata": {},
   "outputs": [],
   "source": [
    "test_change "
   ]
  },
  {
   "cell_type": "code",
   "execution_count": null,
   "id": "fc308322",
   "metadata": {},
   "outputs": [],
   "source": []
  }
 ],
 "metadata": {
  "kernelspec": {
   "display_name": "Python 3",
   "language": "python",
   "name": "python3"
  },
  "language_info": {
   "codemirror_mode": {
    "name": "ipython",
    "version": 3
   },
   "file_extension": ".py",
   "mimetype": "text/x-python",
   "name": "python",
   "nbconvert_exporter": "python",
   "pygments_lexer": "ipython3",
   "version": "3.10.3"
  }
 },
 "nbformat": 4,
 "nbformat_minor": 5
}
