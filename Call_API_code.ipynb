{
 "cells": [
  {
   "cell_type": "code",
   "execution_count": 1,
   "id": "cc548b58",
   "metadata": {},
   "outputs": [],
   "source": [
    "import requests\n",
    "import pandas as pd\n",
    "import time"
   ]
  },
  {
   "cell_type": "code",
   "execution_count": 2,
   "id": "c5cdd761",
   "metadata": {
    "scrolled": true
   },
   "outputs": [
    {
     "name": "stdout",
     "output_type": "stream",
     "text": [
      "Collecting git+https://github.com/traveltime-dev/traveltime-python-sdk\n",
      "  Cloning https://github.com/traveltime-dev/traveltime-python-sdk to /private/var/folders/s0/2b77knw54rbfdpksvcc04_j00000gn/T/pip-req-build-7qtf2sh4\n",
      "  Running command git clone --filter=blob:none --quiet https://github.com/traveltime-dev/traveltime-python-sdk /private/var/folders/s0/2b77knw54rbfdpksvcc04_j00000gn/T/pip-req-build-7qtf2sh4\n",
      "  Resolved https://github.com/traveltime-dev/traveltime-python-sdk to commit 26d69d9cefe5feb099e9cdeb991bf12ed2c859cf\n",
      "  Preparing metadata (setup.py) ... \u001b[?25ldone\n",
      "\u001b[?25hRequirement already satisfied: requests in ./opt/anaconda3/lib/python3.8/site-packages (from traveltimepy==0.2) (2.25.1)\n",
      "Requirement already satisfied: certifi>=2021.5.30 in ./opt/anaconda3/lib/python3.8/site-packages (from traveltimepy==0.2) (2021.10.8)\n",
      "Requirement already satisfied: idna<3,>=2.5 in ./opt/anaconda3/lib/python3.8/site-packages (from requests->traveltimepy==0.2) (2.10)\n",
      "Requirement already satisfied: chardet<5,>=3.0.2 in ./opt/anaconda3/lib/python3.8/site-packages (from requests->traveltimepy==0.2) (4.0.0)\n",
      "Requirement already satisfied: urllib3<1.27,>=1.21.1 in ./opt/anaconda3/lib/python3.8/site-packages (from requests->traveltimepy==0.2) (1.26.4)\n"
     ]
    }
   ],
   "source": [
    "!pip install git+https://github.com/traveltime-dev/traveltime-python-sdk"
   ]
  },
  {
   "cell_type": "code",
   "execution_count": 3,
   "id": "5a12f7b8",
   "metadata": {},
   "outputs": [],
   "source": [
    "import traveltimepy as ttpy\n",
    "from datetime import datetime\n",
    "import os"
   ]
  },
  {
   "cell_type": "code",
   "execution_count": 4,
   "id": "514a78d9",
   "metadata": {},
   "outputs": [],
   "source": [
    "os.environ[\"TRAVELTIME_ID\"] = os.environ.get(\"TRAVELTIME_ID\")\n",
    "os.environ[\"TRAVELTIME_KEY\"] = os.environ.get(\"TRAVELTIME_KEY\")"
   ]
  },
  {
   "cell_type": "code",
   "execution_count": 15,
   "id": "20b8de29",
   "metadata": {},
   "outputs": [],
   "source": [
    "locations_list = [\n",
    "    {\"id\": \"London center\", \"coords\": {\"lat\": 51.508930, \"lng\": -0.131387}},\n",
    "    {\"id\": \"Hyde Park\", \"coords\": {\"lat\": 51.508824, \"lng\": -0.167093}},\n",
    "    {\"id\": \"ZSL London Zoo\", \"coords\": {\"lat\": 51.536067, \"lng\": -0.153596}},\n",
    "    {\"id\": \"London Museum\", \"coords\": {\"lat\": 51.520464 , \"lng\": -0.126312}},\n",
    "    {\"id\": \"Big Ben\", \"coords\": {\"lat\": 51.500896 , \"lng\": -0.124584}},\n",
    "    {\"id\": \"Charing Cross Station\", \"coords\": {\"lat\": 51.508567 , \"lng\": -0.125633}},\n",
    "    {\"id\": \"London center2\", \"coords\": {\"lat\": 51.508930, \"lng\": -0.131387}},\n",
    "    {\"id\": \"Hyde Park2\", \"coords\": {\"lat\": 51.508824, \"lng\": -0.167093}},\n",
    "    {\"id\": \"ZSL London Zoo2\", \"coords\": {\"lat\": 51.536067, \"lng\": -0.153596}},\n",
    "    {\"id\": \"London Museum2\", \"coords\": {\"lat\": 51.520464 , \"lng\": -0.126312}},\n",
    "    {\"id\": \"Big Ben2\", \"coords\": {\"lat\": 51.500896 , \"lng\": -0.124584}},\n",
    "    {\"id\": \"Charing Cross Station2\", \"coords\": {\"lat\": 51.508567 , \"lng\": -0.125633}}\n",
    "]"
   ]
  },
  {
   "cell_type": "code",
   "execution_count": 16,
   "id": "2119c436",
   "metadata": {},
   "outputs": [],
   "source": [
    "def get_results_from_api(locs):\n",
    "    \n",
    "    \"\"\"\n",
    "    Calls the TravelTime API and returns the results in a dictionary.\n",
    "    \n",
    "    Args: \n",
    "      locs (list): A list of dictionaries containing locations. Must contain keys \n",
    "        [\"id\", \"coords\"].\n",
    "      dep_search (dict): A dictionary of departure locations. Must contain keys \n",
    "        [\"id\", \"departure_location_id\", \"arrival_location_ids\", \"transportation\", \n",
    "        \"departure_time\", \"travel_time\", \"properties\", \"range\"]\n",
    "\n",
    "    Returns: \n",
    "      dict: A dictionary of results.   \n",
    "\n",
    "    \"\"\"\n",
    "    \n",
    "    departure = locs[0][\"id\"]\n",
    "    arrival_locations = [locs[index][\"id\"] for index in range(len(locs)) \n",
    "                         if locs[index][\"id\"]!= departure]\n",
    "    \n",
    "    # Define parameters in dictionary for API call\n",
    "    \n",
    "    public_parameters = {\n",
    "    \"id\": \"arrive-at one-to-many search example\",\n",
    "    \"arrival_location_ids\": arrival_locations,\n",
    "    \"departure_location_id\": departure,\n",
    "    \"transportation\": {\"type\": \"public_transport\"},\n",
    "    \"arrival_time_period\": \"weekday_morning\",\n",
    "    \"travel_time\": 3600,\n",
    "    \"properties\": [\"travel_time\"]\n",
    "    }\n",
    "    \n",
    "    private_parameters = {\n",
    "    \"id\": \"arrive-at one-to-many search example\",\n",
    "    \"arrival_location_ids\": arrival_locations,\n",
    "    \"departure_location_id\": departure,\n",
    "    \"transportation\": {\"type\": \"driving\"},\n",
    "    \"arrival_time_period\": \"weekday_morning\",\n",
    "    \"travel_time\": 3600,\n",
    "    \"properties\": [\"travel_time\"]\n",
    "    }\n",
    "\n",
    "    # Call the API \n",
    "    public_api_data = ttpy.time_filter_fast(locations=locs, arrival_one_to_many=public_parameters)\n",
    "\n",
    "    private_api_data = ttpy.time_filter_fast(locations=locs, arrival_one_to_many=private_parameters)\n",
    "\n",
    "    API_call_time = time.ctime()\n",
    "    \n",
    "    # Define empty results dictionary to store results\n",
    "    res_dict = {\"Start\" : [], \"Destination\" : [], \"Public_Travel_Duration\" : [], \"Private_Travel_Duration\" : [], \"API call time\" : []}\n",
    "    # number_of_arrival_locations = len(arrival_locations)\n",
    "\n",
    "    public_refined_api_data = public_api_data[\"results\"][0][\"locations\"]\n",
    "    private_refined_api_data = private_api_data[\"results\"][0][\"locations\"]\n",
    "\n",
    "    # Loop through destination locations and store each journey time into results dictionary.        \n",
    "    for destination_result in public_refined_api_data:\n",
    "        public_duration_result = destination_result[\"properties\"][\"travel_time\"]\n",
    "        destination_name = destination_result[\"id\"]\n",
    "        res_dict[\"Start\"].append(departure)\n",
    "        res_dict[\"Destination\"].append(destination_name)\n",
    "        res_dict[\"Public_Travel_Duration\"].append(public_duration_result)\n",
    "        res_dict[\"API call time\"].append(API_call_time)\n",
    "    \n",
    "    for destination_result in private_refined_api_data:\n",
    "        private_duration_result = destination_result[\"properties\"][\"travel_time\"]\n",
    "        res_dict[\"Private_Travel_Duration\"].append(private_duration_result)\n",
    "\n",
    "    final_df = pd.DataFrame(res_dict)\n",
    "    \n",
    "    return final_df"
   ]
  },
  {
   "cell_type": "code",
   "execution_count": 17,
   "id": "7a09274d",
   "metadata": {
    "scrolled": false
   },
   "outputs": [
    {
     "data": {
      "text/html": [
       "<div>\n",
       "<style scoped>\n",
       "    .dataframe tbody tr th:only-of-type {\n",
       "        vertical-align: middle;\n",
       "    }\n",
       "\n",
       "    .dataframe tbody tr th {\n",
       "        vertical-align: top;\n",
       "    }\n",
       "\n",
       "    .dataframe thead th {\n",
       "        text-align: right;\n",
       "    }\n",
       "</style>\n",
       "<table border=\"1\" class=\"dataframe\">\n",
       "  <thead>\n",
       "    <tr style=\"text-align: right;\">\n",
       "      <th></th>\n",
       "      <th>Start</th>\n",
       "      <th>Destination</th>\n",
       "      <th>Public_Travel_Duration</th>\n",
       "      <th>Private_Travel_Duration</th>\n",
       "      <th>API call time</th>\n",
       "    </tr>\n",
       "  </thead>\n",
       "  <tbody>\n",
       "    <tr>\n",
       "      <th>0</th>\n",
       "      <td>London center</td>\n",
       "      <td>Charing Cross Station2</td>\n",
       "      <td>432</td>\n",
       "      <td>277</td>\n",
       "      <td>Mon Mar 28 16:58:46 2022</td>\n",
       "    </tr>\n",
       "    <tr>\n",
       "      <th>1</th>\n",
       "      <td>London center</td>\n",
       "      <td>Hyde Park</td>\n",
       "      <td>1527</td>\n",
       "      <td>1040</td>\n",
       "      <td>Mon Mar 28 16:58:46 2022</td>\n",
       "    </tr>\n",
       "    <tr>\n",
       "      <th>2</th>\n",
       "      <td>London center</td>\n",
       "      <td>Big Ben2</td>\n",
       "      <td>632</td>\n",
       "      <td>555</td>\n",
       "      <td>Mon Mar 28 16:58:46 2022</td>\n",
       "    </tr>\n",
       "    <tr>\n",
       "      <th>3</th>\n",
       "      <td>London center</td>\n",
       "      <td>ZSL London Zoo</td>\n",
       "      <td>1890</td>\n",
       "      <td>1026</td>\n",
       "      <td>Mon Mar 28 16:58:46 2022</td>\n",
       "    </tr>\n",
       "    <tr>\n",
       "      <th>4</th>\n",
       "      <td>London center</td>\n",
       "      <td>London Museum</td>\n",
       "      <td>786</td>\n",
       "      <td>557</td>\n",
       "      <td>Mon Mar 28 16:58:46 2022</td>\n",
       "    </tr>\n",
       "    <tr>\n",
       "      <th>5</th>\n",
       "      <td>London center</td>\n",
       "      <td>ZSL London Zoo2</td>\n",
       "      <td>1890</td>\n",
       "      <td>1026</td>\n",
       "      <td>Mon Mar 28 16:58:46 2022</td>\n",
       "    </tr>\n",
       "    <tr>\n",
       "      <th>6</th>\n",
       "      <td>London center</td>\n",
       "      <td>Big Ben</td>\n",
       "      <td>632</td>\n",
       "      <td>555</td>\n",
       "      <td>Mon Mar 28 16:58:46 2022</td>\n",
       "    </tr>\n",
       "    <tr>\n",
       "      <th>7</th>\n",
       "      <td>London center</td>\n",
       "      <td>London center2</td>\n",
       "      <td>40</td>\n",
       "      <td>40</td>\n",
       "      <td>Mon Mar 28 16:58:46 2022</td>\n",
       "    </tr>\n",
       "    <tr>\n",
       "      <th>8</th>\n",
       "      <td>London center</td>\n",
       "      <td>Hyde Park2</td>\n",
       "      <td>1527</td>\n",
       "      <td>1040</td>\n",
       "      <td>Mon Mar 28 16:58:46 2022</td>\n",
       "    </tr>\n",
       "    <tr>\n",
       "      <th>9</th>\n",
       "      <td>London center</td>\n",
       "      <td>Charing Cross Station</td>\n",
       "      <td>432</td>\n",
       "      <td>277</td>\n",
       "      <td>Mon Mar 28 16:58:46 2022</td>\n",
       "    </tr>\n",
       "    <tr>\n",
       "      <th>10</th>\n",
       "      <td>London center</td>\n",
       "      <td>London Museum2</td>\n",
       "      <td>786</td>\n",
       "      <td>557</td>\n",
       "      <td>Mon Mar 28 16:58:46 2022</td>\n",
       "    </tr>\n",
       "  </tbody>\n",
       "</table>\n",
       "</div>"
      ],
      "text/plain": [
       "            Start             Destination  Public_Travel_Duration  \\\n",
       "0   London center  Charing Cross Station2                     432   \n",
       "1   London center               Hyde Park                    1527   \n",
       "2   London center                Big Ben2                     632   \n",
       "3   London center          ZSL London Zoo                    1890   \n",
       "4   London center           London Museum                     786   \n",
       "5   London center         ZSL London Zoo2                    1890   \n",
       "6   London center                 Big Ben                     632   \n",
       "7   London center          London center2                      40   \n",
       "8   London center              Hyde Park2                    1527   \n",
       "9   London center   Charing Cross Station                     432   \n",
       "10  London center          London Museum2                     786   \n",
       "\n",
       "    Private_Travel_Duration             API call time  \n",
       "0                       277  Mon Mar 28 16:58:46 2022  \n",
       "1                      1040  Mon Mar 28 16:58:46 2022  \n",
       "2                       555  Mon Mar 28 16:58:46 2022  \n",
       "3                      1026  Mon Mar 28 16:58:46 2022  \n",
       "4                       557  Mon Mar 28 16:58:46 2022  \n",
       "5                      1026  Mon Mar 28 16:58:46 2022  \n",
       "6                       555  Mon Mar 28 16:58:46 2022  \n",
       "7                        40  Mon Mar 28 16:58:46 2022  \n",
       "8                      1040  Mon Mar 28 16:58:46 2022  \n",
       "9                       277  Mon Mar 28 16:58:46 2022  \n",
       "10                      557  Mon Mar 28 16:58:46 2022  "
      ]
     },
     "execution_count": 17,
     "metadata": {},
     "output_type": "execute_result"
    }
   ],
   "source": [
    "api_output_df = get_results_from_api(locs=locations_list)\n",
    "api_output_df"
   ]
  },
  {
   "cell_type": "code",
   "execution_count": 20,
   "id": "83aea5ca",
   "metadata": {},
   "outputs": [],
   "source": [
    "departure = locations_list[0][\"id\"]\n",
    "arrival_locations = [locations_list[index][\"id\"] for index in range(len(locations_list)) \n",
    "                     if locations_list[index][\"id\"]!= departure]\n",
    "\n",
    "# Define parameters in dictionary for API call\n",
    "\n",
    "public_parameters = {\n",
    "\"id\": \"arrive-at one-to-many search example\",\n",
    "\"arrival_location_ids\": arrival_locations,\n",
    "\"departure_location_id\": departure,\n",
    "\"transportation\": {\"type\": \"public_transport\"},\n",
    "\"arrival_time_period\": \"weekday_morning\",\n",
    "\"travel_time\": 3600,\n",
    "\"properties\": [\"travel_time\"]\n",
    "}\n",
    "\n",
    "private_parameters = {\n",
    "\"id\": \"arrive-at one-to-many search example\",\n",
    "\"arrival_location_ids\": arrival_locations,\n",
    "\"departure_location_id\": departure,\n",
    "\"transportation\": {\"type\": \"driving\"},\n",
    "\"arrival_time_period\": \"weekday_morning\",\n",
    "\"travel_time\": 3600,\n",
    "\"properties\": [\"travel_time\"]\n",
    "}\n",
    "\n",
    "# Call the API \n",
    "public_api_data = ttpy.time_filter_fast(locations=locations_list, arrival_one_to_many=public_parameters)\n",
    "\n",
    "private_api_data = ttpy.time_filter_fast(locations=locations_list, arrival_one_to_many=private_parameters)\n",
    "\n",
    "API_call_time = time.ctime()\n",
    "\n",
    "# Define empty results dictionary to store results\n",
    "res_dict = {\"Start\" : [], \"Destination\" : [], \"Public_Travel_Duration\" : [], \"Private_Travel_Duration\" : [], \"API call time\" : []}\n",
    "# number_of_arrival_locations = len(arrival_locations)\n",
    "\n",
    "public_refined_api_data = public_api_data[\"results\"][0][\"locations\"]\n",
    "private_refined_api_data = private_api_data[\"results\"][0][\"locations\"]\n",
    "\n",
    "# Loop through destination locations and store each journey time into results dictionary.        \n",
    "for destination_result in public_refined_api_data:\n",
    "    public_duration_result = destination_result[\"properties\"][\"travel_time\"]\n",
    "    destination_name = destination_result[\"id\"]\n",
    "    res_dict[\"Start\"].append(departure)\n",
    "    res_dict[\"Destination\"].append(destination_name)\n",
    "    res_dict[\"Public_Travel_Duration\"].append(public_duration_result)\n",
    "    res_dict[\"API call time\"].append(API_call_time)\n",
    "\n",
    "for destination_result in private_refined_api_data:\n",
    "    private_duration_result = destination_result[\"properties\"][\"travel_time\"]\n",
    "    res_dict[\"Private_Travel_Duration\"].append(private_duration_result)\n",
    "\n",
    "final_df = pd.DataFrame(res_dict)"
   ]
  },
  {
   "cell_type": "code",
   "execution_count": 73,
   "id": "cda108dc",
   "metadata": {
    "scrolled": true
   },
   "outputs": [
    {
     "data": {
      "text/plain": [
       "{'results': [{'search_id': 'arrive-at one-to-many search example',\n",
       "   'locations': [{'id': 'Charing Cross Station2',\n",
       "     'properties': {'travel_time': 432}},\n",
       "    {'id': 'London center2', 'properties': {'travel_time': 40}},\n",
       "    {'id': 'Charing Cross Station', 'properties': {'travel_time': 432}}],\n",
       "   'unreachable': ['Big Ben2',\n",
       "    'ZSL London Zoo',\n",
       "    'London Museum',\n",
       "    'ZSL London Zoo2',\n",
       "    'London Museum2',\n",
       "    'Hyde Park',\n",
       "    'Big Ben',\n",
       "    'Hyde Park2']}]}"
      ]
     },
     "execution_count": 73,
     "metadata": {},
     "output_type": "execute_result"
    }
   ],
   "source": [
    "public_api_data"
   ]
  },
  {
   "cell_type": "code",
   "execution_count": 75,
   "id": "841d0e3f",
   "metadata": {},
   "outputs": [
    {
     "data": {
      "text/plain": [
       "[{'id': 'Charing Cross Station2', 'properties': {'travel_time': 432}},\n",
       " {'id': 'London center2', 'properties': {'travel_time': 40}},\n",
       " {'id': 'Charing Cross Station', 'properties': {'travel_time': 432}}]"
      ]
     },
     "execution_count": 75,
     "metadata": {},
     "output_type": "execute_result"
    }
   ],
   "source": [
    "public_api_data_refined = public_api_data[\"results\"][0][\"locations\"]\n",
    "public_api_data_refined"
   ]
  },
  {
   "cell_type": "code",
   "execution_count": null,
   "id": "f7b859f8",
   "metadata": {},
   "outputs": [],
   "source": [
    "for location in arrival_locations:\n",
    "    for dict_result in public_api_data_refined:\n",
    "        if dict_result[\"id\"] == location:\n",
    "            append"
   ]
  },
  {
   "cell_type": "code",
   "execution_count": 68,
   "id": "57327bed",
   "metadata": {
    "scrolled": false
   },
   "outputs": [
    {
     "ename": "TypeError",
     "evalue": "'dict' object is not callable",
     "output_type": "error",
     "traceback": [
      "\u001b[0;31m---------------------------------------------------------------------------\u001b[0m",
      "\u001b[0;31mTypeError\u001b[0m                                 Traceback (most recent call last)",
      "\u001b[0;32m<ipython-input-68-85297700b62b>\u001b[0m in \u001b[0;36m<module>\u001b[0;34m\u001b[0m\n\u001b[0;32m----> 1\u001b[0;31m \u001b[0mprivate_api_data\u001b[0m\u001b[0;34m(\u001b[0m\u001b[0;34m\"results\"\u001b[0m\u001b[0;34m)\u001b[0m\u001b[0;34m\u001b[0m\u001b[0;34m\u001b[0m\u001b[0m\n\u001b[0m",
      "\u001b[0;31mTypeError\u001b[0m: 'dict' object is not callable"
     ]
    }
   ],
   "source": [
    "private_api_data"
   ]
  },
  {
   "cell_type": "code",
   "execution_count": null,
   "id": "30925c9f",
   "metadata": {},
   "outputs": [],
   "source": [
    "private_api_data"
   ]
  },
  {
   "cell_type": "code",
   "execution_count": 44,
   "id": "4d804069",
   "metadata": {},
   "outputs": [],
   "source": [
    "res_dict_idea = {\"Start\" : [], \"Destination\" : [], \"Public_Travel_Duration\" : [], \"Private_Travel_Duration\" : [], \"API call time\" : []}"
   ]
  },
  {
   "cell_type": "code",
   "execution_count": 24,
   "id": "87a5c686",
   "metadata": {},
   "outputs": [],
   "source": [
    "public_refined_api_data = public_api_data[\"results\"][0][\"locations\"]\n",
    "private_refined_api_data = private_api_data[\"results\"][0][\"locations\"]"
   ]
  },
  {
   "cell_type": "code",
   "execution_count": 62,
   "id": "ce210880",
   "metadata": {
    "scrolled": false
   },
   "outputs": [
    {
     "data": {
      "text/plain": [
       "{'id': 'Charing Cross Station2', 'properties': {'travel_time': 432}}"
      ]
     },
     "execution_count": 62,
     "metadata": {},
     "output_type": "execute_result"
    }
   ],
   "source": [
    "for number in range(len(public_refined_api_data):\n",
    "                    "
   ]
  },
  {
   "cell_type": "code",
   "execution_count": 28,
   "id": "5317dd57",
   "metadata": {
    "scrolled": true
   },
   "outputs": [
    {
     "data": {
      "text/plain": [
       "['Hyde Park',\n",
       " 'ZSL London Zoo',\n",
       " 'London Museum',\n",
       " 'Big Ben',\n",
       " 'Charing Cross Station',\n",
       " 'London center2',\n",
       " 'Hyde Park2',\n",
       " 'ZSL London Zoo2',\n",
       " 'London Museum2',\n",
       " 'Big Ben2',\n",
       " 'Charing Cross Station2']"
      ]
     },
     "execution_count": 28,
     "metadata": {},
     "output_type": "execute_result"
    }
   ],
   "source": [
    "arrival_locations"
   ]
  },
  {
   "cell_type": "code",
   "execution_count": 33,
   "id": "a036e299",
   "metadata": {
    "scrolled": true
   },
   "outputs": [
    {
     "name": "stdout",
     "output_type": "stream",
     "text": [
      "Hyde Park\n",
      "ZSL London Zoo\n",
      "London Museum\n",
      "Big Ben\n",
      "Charing Cross Station\n",
      "London center2\n",
      "Hyde Park2\n",
      "ZSL London Zoo2\n",
      "London Museum2\n",
      "Big Ben2\n",
      "Charing Cross Station2\n"
     ]
    }
   ],
   "source": [
    "for location in arrival_locations:\n",
    "    print(location)"
   ]
  },
  {
   "cell_type": "code",
   "execution_count": null,
   "id": "de2f5f07",
   "metadata": {},
   "outputs": [],
   "source": [
    "for location in arrival_locations:\n",
    "    print(location)"
   ]
  },
  {
   "cell_type": "code",
   "execution_count": 45,
   "id": "890b6b64",
   "metadata": {},
   "outputs": [],
   "source": [
    "for location in arrival_locations:\n",
    "    public_duration_result = destination_result[\"properties\"][\"travel_time\"]\n",
    "    destination_name = destination_result[\"id\"]\n",
    "    res_dict_idea[\"Start\"].append(departure)\n",
    "    res_dict_idea[\"Destination\"].append(location)\n",
    "    res_dict_idea[\"Public_Travel_Duration\"].append(location)"
   ]
  },
  {
   "cell_type": "code",
   "execution_count": 46,
   "id": "821195c4",
   "metadata": {},
   "outputs": [
    {
     "data": {
      "text/plain": [
       "{'Start': ['London center',\n",
       "  'London center',\n",
       "  'London center',\n",
       "  'London center',\n",
       "  'London center',\n",
       "  'London center',\n",
       "  'London center',\n",
       "  'London center',\n",
       "  'London center',\n",
       "  'London center',\n",
       "  'London center'],\n",
       " 'Destination': ['Hyde Park',\n",
       "  'ZSL London Zoo',\n",
       "  'London Museum',\n",
       "  'Big Ben',\n",
       "  'Charing Cross Station',\n",
       "  'London center2',\n",
       "  'Hyde Park2',\n",
       "  'ZSL London Zoo2',\n",
       "  'London Museum2',\n",
       "  'Big Ben2',\n",
       "  'Charing Cross Station2'],\n",
       " 'Public_Travel_Duration': [],\n",
       " 'Private_Travel_Duration': [],\n",
       " 'API call time': []}"
      ]
     },
     "execution_count": 46,
     "metadata": {},
     "output_type": "execute_result"
    }
   ],
   "source": [
    "res_dict_idea"
   ]
  },
  {
   "cell_type": "code",
   "execution_count": 69,
   "id": "818731d5",
   "metadata": {},
   "outputs": [],
   "source": [
    "public_parameters = {\n",
    "\"id\": \"arrive-at one-to-many search example\",\n",
    "\"arrival_location_ids\": arrival_locations,\n",
    "\"departure_location_id\": departure,\n",
    "\"transportation\": {\"type\": \"public_transport\"},\n",
    "\"arrival_time_period\": \"weekday_morning\",\n",
    "\"travel_time\": 500,\n",
    "\"properties\": [\"travel_time\"]\n",
    "}\n",
    "\n",
    "# Call the API \n",
    "public_api_data = ttpy.time_filter_fast(locations=locations_list, arrival_one_to_many=public_parameters)"
   ]
  },
  {
   "cell_type": "code",
   "execution_count": 70,
   "id": "1848f1f9",
   "metadata": {},
   "outputs": [
    {
     "data": {
      "text/plain": [
       "{'results': [{'search_id': 'arrive-at one-to-many search example',\n",
       "   'locations': [{'id': 'Charing Cross Station2',\n",
       "     'properties': {'travel_time': 432}},\n",
       "    {'id': 'London center2', 'properties': {'travel_time': 40}},\n",
       "    {'id': 'Charing Cross Station', 'properties': {'travel_time': 432}}],\n",
       "   'unreachable': ['Big Ben2',\n",
       "    'ZSL London Zoo',\n",
       "    'London Museum',\n",
       "    'ZSL London Zoo2',\n",
       "    'London Museum2',\n",
       "    'Hyde Park',\n",
       "    'Big Ben',\n",
       "    'Hyde Park2']}]}"
      ]
     },
     "execution_count": 70,
     "metadata": {},
     "output_type": "execute_result"
    }
   ],
   "source": [
    "public_api_data"
   ]
  },
  {
   "cell_type": "code",
   "execution_count": null,
   "id": "1b7b1985",
   "metadata": {},
   "outputs": [],
   "source": []
  }
 ],
 "metadata": {
  "kernelspec": {
   "display_name": "Python 3",
   "language": "python",
   "name": "python3"
  },
  "language_info": {
   "codemirror_mode": {
    "name": "ipython",
    "version": 3
   },
   "file_extension": ".py",
   "mimetype": "text/x-python",
   "name": "python",
   "nbconvert_exporter": "python",
   "pygments_lexer": "ipython3",
   "version": "3.8.8"
  }
 },
 "nbformat": 4,
 "nbformat_minor": 5
}
